{
 "cells": [
  {
   "cell_type": "code",
   "execution_count": 2,
   "id": "578acaae",
   "metadata": {},
   "outputs": [],
   "source": [
    "import cv2\n",
    "import numpy as np"
   ]
  },
  {
   "cell_type": "code",
   "execution_count": 3,
   "id": "86df96a6",
   "metadata": {},
   "outputs": [],
   "source": [
    "def entropy_func(image):\n",
    "    org_img = image + '.tiff'\n",
    "    modified_img = 'enc_' + image + '.png'\n",
    "\n",
    "    org_intensities_temp = cv2.imread(org_img, cv2.IMREAD_GRAYSCALE)\n",
    "    org_intensities = org_intensities_temp.astype(np.float64)\n",
    "\n",
    "    mod_intensities_temp = cv2.imread(modified_img, cv2.IMREAD_GRAYSCALE)\n",
    "    mod_intensities = mod_intensities_temp.astype(np.float64)\n",
    "\n",
    "    vals, counts = np.unique(org_intensities, return_counts = True)\n",
    "    prbs = counts/sum(counts)\n",
    "    log2prbs = np.log2(prbs)\n",
    "    Ht = prbs * log2prbs\n",
    "    H = -sum(Ht)\n",
    "\n",
    "    mvalst, mcountst = np.unique(mod_intensities, return_counts = True)\n",
    "    mvals = np.delete(mvalst, [0, -1])\n",
    "    mcounts = np.delete(mcountst, [0, -1])\n",
    "    mprbs = mcounts/sum(mcounts)\n",
    "    mlog2prbs = np.log2(mprbs)\n",
    "    mHt = mprbs * mlog2prbs\n",
    "    mH = -sum(mHt)\n",
    "    return H, mH"
   ]
  },
  {
   "cell_type": "code",
   "execution_count": 7,
   "id": "da2d5899",
   "metadata": {},
   "outputs": [],
   "source": [
    "images_lambdas = [\n",
    "('aerial',154896),\n",
    "('boat',150473),\n",
    "('cam',192730),\n",
    "('elaine',143409),\n",
    "('gol',120943),\n",
    "('house',160734),\n",
    "('lena',149847),\n",
    "('liv',209636),\n",
    "('man',66284),\n",
    "('pepper',153365),\n",
    "('plane',176798),\n",
    "('sailboat',190592),\n",
    "('splash',134090),\n",
    "('manmade',165600),\n",
    "('nature',197675),\n",
    "('person',78365)]\n",
    "\n",
    "images_Hs = []\n",
    "for i in images_lambdas:\n",
    "    image = i[0]\n",
    "    Ht = entropy_func(image)    \n",
    "    H = np.round(Ht, 2)\n",
    "    image_H = (image, H)\n",
    "    images_Hs.append(image_H)"
   ]
  },
  {
   "cell_type": "code",
   "execution_count": 8,
   "id": "76580df8",
   "metadata": {},
   "outputs": [
    {
     "data": {
      "text/plain": [
       "[('aerial', array([6.99, 7.98])),\n",
       " ('boat', array([7.19, 7.98])),\n",
       " ('cam', array([7.05, 7.99])),\n",
       " ('elaine', array([7.46, 7.98])),\n",
       " ('gol', array([7.48, 7.98])),\n",
       " ('house', array([7.23, 7.98])),\n",
       " ('lena', array([7.45, 7.98])),\n",
       " ('liv', array([7.3 , 7.98])),\n",
       " ('man', array([7.29, 7.98])),\n",
       " ('pepper', array([7.59, 7.98])),\n",
       " ('plane', array([6.7 , 7.98])),\n",
       " ('sailboat', array([7.48, 7.98])),\n",
       " ('splash', array([7.25, 7.98])),\n",
       " ('manmade', array([7.33, 7.99])),\n",
       " ('nature', array([7.66, 7.99])),\n",
       " ('person', array([7.53, 7.98]))]"
      ]
     },
     "execution_count": 8,
     "metadata": {},
     "output_type": "execute_result"
    }
   ],
   "source": [
    "images_Hs"
   ]
  },
  {
   "cell_type": "code",
   "execution_count": null,
   "id": "d765b86b",
   "metadata": {},
   "outputs": [],
   "source": []
  }
 ],
 "metadata": {
  "kernelspec": {
   "display_name": "Python 3 (ipykernel)",
   "language": "python",
   "name": "python3"
  },
  "language_info": {
   "codemirror_mode": {
    "name": "ipython",
    "version": 3
   },
   "file_extension": ".py",
   "mimetype": "text/x-python",
   "name": "python",
   "nbconvert_exporter": "python",
   "pygments_lexer": "ipython3",
   "version": "3.9.12"
  }
 },
 "nbformat": 4,
 "nbformat_minor": 5
}
