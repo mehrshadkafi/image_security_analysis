{
 "cells": [
  {
   "cell_type": "code",
   "execution_count": 1,
   "id": "27a54fe2",
   "metadata": {},
   "outputs": [],
   "source": [
    "import cv2\n",
    "import numpy as np"
   ]
  },
  {
   "cell_type": "code",
   "execution_count": 2,
   "id": "79cdddd4",
   "metadata": {},
   "outputs": [],
   "source": [
    "def get_psnr(org_img, modified_img, b = 8):\n",
    "# org_img = 'lena.tif'\n",
    "    org_intensities_temp = cv2.imread(org_img, cv2.IMREAD_GRAYSCALE)\n",
    "    org_intensities = org_intensities_temp.astype(np.float64)\n",
    "    rows_num = np.shape(org_intensities)[0]\n",
    "    cols_num = np.shape(org_intensities)[1]\n",
    "\n",
    "    mod_intensities_temp = cv2.imread(modified_img, cv2.IMREAD_GRAYSCALE)\n",
    "    mod_intensities = mod_intensities_temp.astype(np.float64)\n",
    "\n",
    "    mse = sum(sum((org_intensities - mod_intensities)**2))/(rows_num * cols_num)\n",
    "    psnr_temp = (2**b-1)**2/mse\n",
    "    psnr = 10 * np.log10(psnr_temp)\n",
    "    \n",
    "    return psnr"
   ]
  },
  {
   "cell_type": "code",
   "execution_count": 21,
   "id": "01c6760d",
   "metadata": {},
   "outputs": [],
   "source": [
    "images_lambdas = [\n",
    "('aerial',154896),\n",
    "('boat',150473),\n",
    "('cam',192730),\n",
    "('elaine',143409),\n",
    "('gol',120943),\n",
    "('house',160734),\n",
    "('lena',149847),\n",
    "('liv',209636),\n",
    "('man',66284),\n",
    "('pepper',153365),\n",
    "('plane',176798),\n",
    "('sailboat',190592),\n",
    "('splash',134090),\n",
    "('manmade',165600),\n",
    "('nature',197675),\n",
    "('person',78365)]\n",
    "\n",
    "images_psnrs = []\n",
    "for image_lambda in images_lambdas:\n",
    "    org_image = image_lambda[0]+'.tiff'\n",
    "    opt_enc_image = 'enc_'+image_lambda[0]+'.png'\n",
    "    psnr_temp = get_psnr(org_image, opt_enc_image, b = 8)\n",
    "    psnr = np.round(psnr_temp, 2)\n",
    "    image_psnr = (image_lambda[0], psnr)\n",
    "    images_psnrs.append(image_psnr)    "
   ]
  },
  {
   "cell_type": "code",
   "execution_count": 22,
   "id": "25d8696e",
   "metadata": {},
   "outputs": [
    {
     "data": {
      "text/plain": [
       "[('aerial', 6.56),\n",
       " ('boat', 7.6),\n",
       " ('cam', 6.37),\n",
       " ('elaine', 7.46),\n",
       " ('gol', 7.63),\n",
       " ('house', 6.58),\n",
       " ('lena', 7.07),\n",
       " ('liv', 7.33),\n",
       " ('man', 7.89),\n",
       " ('pepper', 7.54),\n",
       " ('plane', 6.33),\n",
       " ('sailboat', 6.47),\n",
       " ('splash', 6.6),\n",
       " ('manmade', 5.37),\n",
       " ('nature', 6.55),\n",
       " ('person', 6.46)]"
      ]
     },
     "execution_count": 22,
     "metadata": {},
     "output_type": "execute_result"
    }
   ],
   "source": [
    "images_psnrs"
   ]
  },
  {
   "cell_type": "code",
   "execution_count": 32,
   "id": "c1f03ae7",
   "metadata": {},
   "outputs": [],
   "source": [
    "li18psnrs = [8.7552, 8.3113, 12.5079, 8.4190, 7.9735, \n",
    "             7.8755, 8.5926, 7.6889, 7.7872, 7.8610]\n",
    "li18psnrs_avg = sum(li18psnrs)/len(li18psnrs)"
   ]
  },
  {
   "cell_type": "code",
   "execution_count": 33,
   "id": "75329144",
   "metadata": {},
   "outputs": [],
   "source": [
    "psnrs = []\n",
    "for i in [0, 1, 3, 5, 6, 7, 8, 9, 10, 11, 12]:\n",
    "    psnr = images_psnrs[i][1]\n",
    "    psnrs = np.append(psnrs, psnr)\n",
    "psnr_avg = sum(psnrs)/len(psnrs)"
   ]
  },
  {
   "cell_type": "code",
   "execution_count": 35,
   "id": "5d6c0cb9",
   "metadata": {},
   "outputs": [
    {
     "name": "stdout",
     "output_type": "stream",
     "text": [
      "li18psnrs_avg 8.57721\n",
      "psnr_avg 7.039090909090908\n",
      "ting19 7.99\n"
     ]
    }
   ],
   "source": [
    "print('li18psnrs_avg', li18psnrs_avg)\n",
    "print('psnr_avg', psnr_avg)\n",
    "print('ting19', 7.99)"
   ]
  },
  {
   "cell_type": "code",
   "execution_count": null,
   "id": "6caebe6a",
   "metadata": {},
   "outputs": [],
   "source": []
  }
 ],
 "metadata": {
  "kernelspec": {
   "display_name": "Python 3 (ipykernel)",
   "language": "python",
   "name": "python3"
  },
  "language_info": {
   "codemirror_mode": {
    "name": "ipython",
    "version": 3
   },
   "file_extension": ".py",
   "mimetype": "text/x-python",
   "name": "python",
   "nbconvert_exporter": "python",
   "pygments_lexer": "ipython3",
   "version": "3.9.12"
  }
 },
 "nbformat": 4,
 "nbformat_minor": 5
}
