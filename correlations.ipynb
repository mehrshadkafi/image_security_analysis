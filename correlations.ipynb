{
 "cells": [
  {
   "cell_type": "code",
   "execution_count": 1,
   "id": "cd76c698",
   "metadata": {},
   "outputs": [],
   "source": [
    "import cv2\n",
    "import numpy as np"
   ]
  },
  {
   "cell_type": "code",
   "execution_count": 2,
   "id": "ca0d0092",
   "metadata": {},
   "outputs": [],
   "source": [
    "def correlations(intensities):\n",
    "    x1h = intensities.astype(np.float)\n",
    "    x2h = np.zeros([height, width])\n",
    "    for i in range(0, height):\n",
    "        for j in range(0, width-1):\n",
    "            x2h[i][j] = x1h[i][j+1]\n",
    "        x2h[i][width-1] = x1h[i][width-1]\n",
    "\n",
    "    total_N = np.size(x1h)\n",
    "    mean_x1h = x1h.sum()/total_N\n",
    "    mean_x2h = x2h.sum()/total_N\n",
    "\n",
    "    aa1 = (x1h - mean_x1h)**2\n",
    "    bb1 = aa1.sum()\n",
    "    std_dev1 = np.sqrt(bb1/total_N)\n",
    "\n",
    "    aa2 = (x2h - mean_x2h)**2\n",
    "    bb2 = aa2.sum()\n",
    "    std_dev2 = np.sqrt(bb2/total_N)\n",
    "\n",
    "    cc = (x1h - mean_x1h)*(x2h - mean_x2h)\n",
    "    hcov = cc.sum()/total_N\n",
    "\n",
    "    hcorr = hcov/(std_dev1 * std_dev2)\n",
    "#     print('hcorr', hcorr)\n",
    "\n",
    "    # Vertical correlation\n",
    "    x1v = intensities.astype(np.float)\n",
    "    x2v = np.zeros([height, width])\n",
    "    for i in range(0, height-1):\n",
    "        for j in range(0, width):\n",
    "            x2v[i][j] = x1v[i+1][j]\n",
    "            x2v[height-1][j] = x1v[height-1][j]\n",
    "\n",
    "    total_N = np.size(x1v)\n",
    "    mean_x1v = x1v.sum()/total_N\n",
    "    mean_x2v = x2v.sum()/total_N\n",
    "\n",
    "    aa1 = (x1v - mean_x1v)**2\n",
    "    bb1 = aa1.sum()\n",
    "    std_dev1 = np.sqrt(bb1/total_N)\n",
    "\n",
    "    aa2 = (x2v - mean_x2v)**2\n",
    "    bb2 = aa2.sum()\n",
    "    std_dev2 = np.sqrt(bb2/total_N)\n",
    "\n",
    "    cc = (x1v - mean_x1v)*(x2v - mean_x2v)\n",
    "    vcov = cc.sum()/total_N\n",
    "\n",
    "    vcorr = vcov/(std_dev1 * std_dev2)\n",
    "#     print('vcorr',vcorr)\n",
    "\n",
    "    # Diagonal correlation\n",
    "    x1d = intensities.astype(np.float)\n",
    "    x2d = np.zeros([height, width])\n",
    "    for i in range(0, height-1):\n",
    "        for j in range(0, width-1):\n",
    "            x2d[i][j] = x1d[i+1][j+1]\n",
    "            x2d[height-1][j] = x1d[height-1][j]\n",
    "        x2d[i][width-1] = x1d[i][width-1]\n",
    "    x2d[height-1][width-1] = x1d[height-1][width-1]\n",
    "\n",
    "    total_N = np.size(x1d)\n",
    "    mean_x1d = x1d.sum()/total_N\n",
    "    mean_x2d = x2d.sum()/total_N\n",
    "\n",
    "    aa1 = (x1d - mean_x1d)**2\n",
    "    bb1 = aa1.sum()\n",
    "    std_dev1 = np.sqrt(bb1/total_N)\n",
    "\n",
    "    aa2 = (x2d - mean_x2d)**2\n",
    "    bb2 = aa2.sum()\n",
    "    std_dev2 = np.sqrt(bb2/total_N)\n",
    "\n",
    "    cc = (x1d - mean_x1d)*(x2d - mean_x2d)\n",
    "    dcov = cc.sum()/total_N\n",
    "\n",
    "    dcorr = dcov/(std_dev1 * std_dev2)\n",
    "#     print('dcorr',dcorr)\n",
    "    \n",
    "    return hcorr, vcorr, dcorr"
   ]
  },
  {
   "cell_type": "code",
   "execution_count": 4,
   "id": "93709fde",
   "metadata": {},
   "outputs": [
    {
     "name": "stderr",
     "output_type": "stream",
     "text": [
      "/tmp/ipykernel_205062/3932999521.py:2: DeprecationWarning: `np.float` is a deprecated alias for the builtin `float`. To silence this warning, use `float` by itself. Doing this will not modify any behavior and is safe. If you specifically wanted the numpy scalar type, use `np.float64` here.\n",
      "Deprecated in NumPy 1.20; for more details and guidance: https://numpy.org/devdocs/release/1.20.0-notes.html#deprecations\n",
      "  x1h = intensities.astype(np.float)\n",
      "/tmp/ipykernel_205062/3932999521.py:28: DeprecationWarning: `np.float` is a deprecated alias for the builtin `float`. To silence this warning, use `float` by itself. Doing this will not modify any behavior and is safe. If you specifically wanted the numpy scalar type, use `np.float64` here.\n",
      "Deprecated in NumPy 1.20; for more details and guidance: https://numpy.org/devdocs/release/1.20.0-notes.html#deprecations\n",
      "  x1v = intensities.astype(np.float)\n",
      "/tmp/ipykernel_205062/3932999521.py:54: DeprecationWarning: `np.float` is a deprecated alias for the builtin `float`. To silence this warning, use `float` by itself. Doing this will not modify any behavior and is safe. If you specifically wanted the numpy scalar type, use `np.float64` here.\n",
      "Deprecated in NumPy 1.20; for more details and guidance: https://numpy.org/devdocs/release/1.20.0-notes.html#deprecations\n",
      "  x1d = intensities.astype(np.float)\n"
     ]
    },
    {
     "name": "stdout",
     "output_type": "stream",
     "text": [
      "org_hcorr: 0.9720025058717428\n"
     ]
    }
   ],
   "source": [
    "image = 'lena'\n",
    "img_file = image + '.tiff'\n",
    "intensities = cv2.imread(img_file, cv2.IMREAD_GRAYSCALE)\n",
    "imf = np.float32(intensities)\n",
    "\n",
    "height = np.shape(intensities)[0]\n",
    "width = np.shape(intensities)[1]\n",
    "\n",
    "org_hcorr = correlations(imf)[0]\n",
    "print('org_hcorr:', org_hcorr)\n",
    "# opt_hcorr = correlations(opt_enc_pixels)[0]\n",
    "# print('opt_hcorr:', opt_hcorr)\n",
    "# sw_hcorr = correlations(sw_enc_pixels)[0]\n",
    "# print('sw_hcorr:', sw_hcorr)"
   ]
  },
  {
   "cell_type": "code",
   "execution_count": null,
   "id": "5a5d9aa0",
   "metadata": {},
   "outputs": [],
   "source": []
  }
 ],
 "metadata": {
  "kernelspec": {
   "display_name": "Python 3 (ipykernel)",
   "language": "python",
   "name": "python3"
  },
  "language_info": {
   "codemirror_mode": {
    "name": "ipython",
    "version": 3
   },
   "file_extension": ".py",
   "mimetype": "text/x-python",
   "name": "python",
   "nbconvert_exporter": "python",
   "pygments_lexer": "ipython3",
   "version": "3.9.12"
  }
 },
 "nbformat": 4,
 "nbformat_minor": 5
}
