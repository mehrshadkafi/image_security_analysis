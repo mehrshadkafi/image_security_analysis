{
 "cells": [
  {
   "cell_type": "code",
   "execution_count": 1,
   "id": "1a68bee7",
   "metadata": {},
   "outputs": [],
   "source": [
    "import cv2\n",
    "import numpy as np\n",
    "from skimage.metrics import structural_similarity as ssim"
   ]
  },
  {
   "cell_type": "code",
   "execution_count": 2,
   "id": "d03fad7d",
   "metadata": {},
   "outputs": [],
   "source": [
    "def ssim_func(image, modified_image):\n",
    "    org_imgt = cv2.imread(image +'.tiff')\n",
    "    org_img = cv2.cvtColor(org_imgt, cv2.COLOR_BGR2GRAY)\n",
    "    modified_imgt = cv2.imread(modified_image+'.png')\n",
    "    modified_img = cv2.cvtColor(modified_imgt, cv2.COLOR_BGR2GRAY)\n",
    "    ssim_value = ssim(org_img, modified_img)\n",
    "    \n",
    "    return ssim_value"
   ]
  },
  {
   "cell_type": "code",
   "execution_count": 5,
   "id": "9fbe0581",
   "metadata": {},
   "outputs": [],
   "source": [
    "images_lambdas = [\n",
    "('aerial',154896),\n",
    "('boat',150473),\n",
    "('cam',192730),\n",
    "('elaine',143409),\n",
    "('gol',120943),\n",
    "('house',160734),\n",
    "('lena',149847),\n",
    "('liv',209636),\n",
    "('man',66284),\n",
    "('pepper',153365),\n",
    "('plane',176798),\n",
    "('sailboat',190592),\n",
    "('splash',134090),\n",
    "('manmade',165600),\n",
    "('nature',197675),\n",
    "('person',78365)]\n",
    "\n",
    "images_ssims = []\n",
    "for i in images_lambdas:\n",
    "    image = i[0]\n",
    "    modified_image = 'enc_' + image\n",
    "    ssimt = ssim_func(image, modified_image)\n",
    "    ssim_value = np.round(ssimt, 4)\n",
    "    image_ssim = (image, ssim_value)\n",
    "    images_ssims.append(image_ssim)  "
   ]
  },
  {
   "cell_type": "code",
   "execution_count": 6,
   "id": "919e2ac3",
   "metadata": {},
   "outputs": [
    {
     "data": {
      "text/plain": [
       "[('aerial', 0.0044),\n",
       " ('boat', -0.0034),\n",
       " ('cam', 0.0052),\n",
       " ('elaine', 0.0012),\n",
       " ('gol', 0.0003),\n",
       " ('house', 0.0002),\n",
       " ('lena', -0.0006),\n",
       " ('liv', -0.0014),\n",
       " ('man', 0.0054),\n",
       " ('pepper', -0.0001),\n",
       " ('plane', -0.0003),\n",
       " ('sailboat', 0.0004),\n",
       " ('splash', 0.0007),\n",
       " ('manmade', 0.0028),\n",
       " ('nature', 0.0023),\n",
       " ('person', 0.0057)]"
      ]
     },
     "execution_count": 6,
     "metadata": {},
     "output_type": "execute_result"
    }
   ],
   "source": [
    "images_ssims"
   ]
  },
  {
   "cell_type": "code",
   "execution_count": null,
   "id": "e4da56f8",
   "metadata": {},
   "outputs": [],
   "source": []
  }
 ],
 "metadata": {
  "kernelspec": {
   "display_name": "Python 3 (ipykernel)",
   "language": "python",
   "name": "python3"
  },
  "language_info": {
   "codemirror_mode": {
    "name": "ipython",
    "version": 3
   },
   "file_extension": ".py",
   "mimetype": "text/x-python",
   "name": "python",
   "nbconvert_exporter": "python",
   "pygments_lexer": "ipython3",
   "version": "3.9.12"
  }
 },
 "nbformat": 4,
 "nbformat_minor": 5
}
